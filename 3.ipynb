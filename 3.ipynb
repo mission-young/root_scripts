{
 "cells": [
  {
   "cell_type": "markdown",
   "metadata": {
    "toc": true
   },
   "source": [
    "<h1>Table of Contents<span class=\"tocSkip\"></span></h1>\n",
    "<div class=\"toc\"><ul class=\"toc-item\"></ul></div>"
   ]
  },
  {
   "cell_type": "code",
   "execution_count": 1,
   "metadata": {
    "ExecuteTime": {
     "end_time": "2020-04-08T11:54:52.491082Z",
     "start_time": "2020-04-08T11:54:51.890239Z"
    }
   },
   "outputs": [],
   "source": [
    "%jsroot on\n",
    "TCanvas c1;"
   ]
  },
  {
   "cell_type": "code",
   "execution_count": 2,
   "metadata": {
    "ExecuteTime": {
     "end_time": "2020-04-08T11:54:52.962402Z",
     "start_time": "2020-04-08T11:54:52.492831Z"
    }
   },
   "outputs": [
    {
     "data": {
      "text/html": [
       "\n",
       "<div id=\"root_plot_1586346892952\"\n",
       "     style=\"width: 696px; height: 472px\">\n",
       "</div>\n",
       "<script>\n",
       "if (typeof require !== 'undefined') {\n",
       "\n",
       "    // All requirements met (we are in jupyter notebooks or we loaded requirejs before).\n",
       "    display_root_plot_1586346892952();\n",
       "\n",
       "} else {\n",
       "\n",
       "    // We are in jupyterlab, we need to insert requirejs and configure it.\n",
       "    // Jupyterlab might be installed in a different base_url so we need to know it.\n",
       "    try {\n",
       "        var base_url = JSON.parse(document.getElementById('jupyter-config-data').innerHTML).baseUrl;\n",
       "    } catch(_) {\n",
       "        var base_url = '/';\n",
       "    }\n",
       "\n",
       "    // Try loading a local version of requirejs and fallback to cdn if not possible.\n",
       "    requirejs_load(base_url + 'static/components/requirejs/require.js', requirejs_success(base_url), function(){\n",
       "        requirejs_load('https://cdnjs.cloudflare.com/ajax/libs/require.js/2.2.0/require.min.js', requirejs_success(base_url), function(){\n",
       "            document.getElementById(\"root_plot_1586346892952\").innerHTML = \"Failed to load requireJs\";\n",
       "        });\n",
       "    });\n",
       "}\n",
       "\n",
       "function requirejs_load(src, on_load, on_error) {\n",
       "    var script = document.createElement('script');\n",
       "    script.src = src;\n",
       "    script.onload = on_load;\n",
       "    script.onerror = on_error;\n",
       "    document.head.appendChild(script);\n",
       "}\n",
       "\n",
       "function requirejs_success(base_url) {\n",
       "    return function() {\n",
       "        require.config({\n",
       "            baseUrl: base_url + 'static/'\n",
       "        });\n",
       "        display_root_plot_1586346892952();\n",
       "    }\n",
       "}\n",
       "\n",
       "function display_root_plot_1586346892952() {\n",
       "    requirejs.config({paths:{'JSRootCore':'https://root.cern.ch/js/notebook//scripts/JSRootCore',}});require(['JSRootCore'],\n",
       "        function(Core) {\n",
       "            var obj = Core.JSONR_unref({\"_typename\":\"TCanvas\",\"fUniqueID\":0,\"fBits\":3342344,\"fLineColor\":1,\"fLineStyle\":1,\"fLineWidth\":1,\"fFillColor\":0,\"fFillStyle\":1001,\"fLeftMargin\":0.1,\"fRightMargin\":0.1,\"fBottomMargin\":0.1,\"fTopMargin\":0.1,\"fXfile\":2,\"fYfile\":2,\"fAfile\":1,\"fXstat\":0.99,\"fYstat\":0.99,\"fAstat\":2,\"fFrameFillColor\":0,\"fFrameLineColor\":1,\"fFrameFillStyle\":1001,\"fFrameLineStyle\":1,\"fFrameLineWidth\":1,\"fFrameBorderSize\":1,\"fFrameBorderMode\":0,\"fX1\":-1250.00009313226,\"fY1\":-9752.40072661047,\"fX2\":11250.0000931323,\"fY2\":87771.6007266105,\"fXtoAbsPixelk\":69.6000541484835,\"fXtoPixelk\":69.6000541484835,\"fXtoPixel\":0.0556799991703033,\"fYtoAbsPixelk\":424.800047186661,\"fYtoPixelk\":424.800047186661,\"fYtoPixel\":-0.00483983422507948,\"fUtoAbsPixelk\":5e-5,\"fUtoPixelk\":5e-5,\"fUtoPixel\":696,\"fVtoAbsPixelk\":472.00005,\"fVtoPixelk\":472,\"fVtoPixel\":-472,\"fAbsPixeltoXk\":-1250.00009313226,\"fPixeltoXk\":-1250.00009313226,\"fPixeltoX\":17.959770382564,\"fAbsPixeltoYk\":87771.6007266105,\"fPixeltoYk\":-9752.40072661047,\"fPixeltoY\":-206.618647146654,\"fXlowNDC\":0,\"fYlowNDC\":0,\"fXUpNDC\":1,\"fYUpNDC\":1,\"fWNDC\":1,\"fHNDC\":1,\"fAbsXlowNDC\":0,\"fAbsYlowNDC\":0,\"fAbsWNDC\":1,\"fAbsHNDC\":1,\"fUxmin\":0,\"fUymin\":0,\"fUxmax\":10000,\"fUymax\":78019.2,\"fTheta\":30,\"fPhi\":30,\"fAspectRatio\":0,\"fNumber\":0,\"fTickx\":0,\"fTicky\":0,\"fLogx\":0,\"fLogy\":0,\"fLogz\":0,\"fPadPaint\":0,\"fCrosshair\":0,\"fCrosshairPos\":0,\"fBorderSize\":2,\"fBorderMode\":0,\"fModified\":false,\"fGridx\":false,\"fGridy\":false,\"fAbsCoord\":false,\"fEditable\":true,\"fFixedAspectRatio\":false,\"fPrimitives\":{\"_typename\":\"TList\",\"name\":\"TList\",\"arr\":[{\"_typename\":\"TFrame\",\"fUniqueID\":0,\"fBits\":8,\"fLineColor\":1,\"fLineStyle\":1,\"fLineWidth\":1,\"fFillColor\":0,\"fFillStyle\":1001,\"fX1\":0,\"fY1\":0,\"fX2\":10000,\"fY2\":78019.2,\"fBorderSize\":1,\"fBorderMode\":0},{\"_typename\":\"TH1F\",\"fUniqueID\":0,\"fBits\":8,\"fName\":\"\",\"fTitle\":\"bea\",\"fLineColor\":602,\"fLineStyle\":1,\"fLineWidth\":1,\"fFillColor\":0,\"fFillStyle\":1001,\"fMarkerColor\":1,\"fMarkerStyle\":1,\"fMarkerSize\":1,\"fNcells\":1002,\"fXaxis\":{\"_typename\":\"TAxis\",\"fUniqueID\":0,\"fBits\":0,\"fName\":\"xaxis\",\"fTitle\":\"\",\"fNdivisions\":510,\"fAxisColor\":1,\"fLabelColor\":1,\"fLabelFont\":42,\"fLabelOffset\":0.005,\"fLabelSize\":0.035,\"fTickLength\":0.03,\"fTitleOffset\":1,\"fTitleSize\":0.035,\"fTitleColor\":1,\"fTitleFont\":42,\"fNbins\":1000,\"fXmin\":0,\"fXmax\":10000,\"fXbins\":[],\"fFirst\":0,\"fLast\":0,\"fBits2\":0,\"fTimeDisplay\":false,\"fTimeFormat\":\"\",\"fLabels\":null,\"fModLabs\":null},\"fYaxis\":{\"_typename\":\"TAxis\",\"fUniqueID\":0,\"fBits\":0,\"fName\":\"yaxis\",\"fTitle\":\"\",\"fNdivisions\":510,\"fAxisColor\":1,\"fLabelColor\":1,\"fLabelFont\":42,\"fLabelOffset\":0.005,\"fLabelSize\":0.035,\"fTickLength\":0.03,\"fTitleOffset\":0,\"fTitleSize\":0.035,\"fTitleColor\":1,\"fTitleFont\":42,\"fNbins\":1,\"fXmin\":0,\"fXmax\":1,\"fXbins\":[],\"fFirst\":0,\"fLast\":0,\"fBits2\":0,\"fTimeDisplay\":false,\"fTimeFormat\":\"\",\"fLabels\":null,\"fModLabs\":null},\"fZaxis\":{\"_typename\":\"TAxis\",\"fUniqueID\":0,\"fBits\":0,\"fName\":\"zaxis\",\"fTitle\":\"\",\"fNdivisions\":510,\"fAxisColor\":1,\"fLabelColor\":1,\"fLabelFont\":42,\"fLabelOffset\":0.005,\"fLabelSize\":0.035,\"fTickLength\":0.03,\"fTitleOffset\":1,\"fTitleSize\":0.035,\"fTitleColor\":1,\"fTitleFont\":42,\"fNbins\":1,\"fXmin\":0,\"fXmax\":1,\"fXbins\":[],\"fFirst\":0,\"fLast\":0,\"fBits2\":0,\"fTimeDisplay\":false,\"fTimeFormat\":\"\",\"fLabels\":null,\"fModLabs\":null},\"fBarOffset\":0,\"fBarWidth\":1000,\"fEntries\":1494228,\"fTsumw\":1493942,\"fTsumw2\":1493942,\"fTsumwx\":1208241185.76118,\"fTsumwx2\":2671951718480.36,\"fMaximum\":-1111,\"fMinimum\":-1111,\"fNormFactor\":0,\"fContour\":[],\"fSumw2\":[],\"fOption\":\"\",\"fFunctions\":{\"_typename\":\"TList\",\"name\":\"TList\",\"arr\":[{\"_typename\":\"TPaveStats\",\"fUniqueID\":0,\"fBits\":9,\"fLineColor\":1,\"fLineStyle\":1,\"fLineWidth\":1,\"fFillColor\":0,\"fFillStyle\":1001,\"fX1\":8500.00025331975,\"fY1\":65828.7009809241,\"fX2\":11000.0003278256,\"fY2\":81432.5408646664,\"fX1NDC\":0.780000016093254,\"fY1NDC\":0.775000005960464,\"fX2NDC\":0.980000019073486,\"fY2NDC\":0.935000002384186,\"fBorderSize\":1,\"fInit\":1,\"fShadowColor\":1,\"fCornerRadius\":0,\"fOption\":\"brNDC\",\"fName\":\"stats\",\"fTextAngle\":0,\"fTextSize\":0,\"fTextAlign\":12,\"fTextColor\":1,\"fTextFont\":42,\"fLabel\":\"\",\"fLongest\":18,\"fMargin\":0.05,\"fLines\":{\"_typename\":\"TList\",\"name\":\"TList\",\"arr\":[{\"_typename\":\"TLatex\",\"fUniqueID\":0,\"fBits\":0,\"fName\":\"\",\"fTitle\":\"\",\"fTextAngle\":0,\"fTextSize\":0.0368,\"fTextAlign\":0,\"fTextColor\":0,\"fTextFont\":0,\"fX\":0,\"fY\":0,\"fLineColor\":1,\"fLineStyle\":1,\"fLineWidth\":2,\"fLimitFactorSize\":3,\"fOriginSize\":0.04},{\"_typename\":\"TLatex\",\"fUniqueID\":0,\"fBits\":0,\"fName\":\"\",\"fTitle\":\"Entries = 1494228\",\"fTextAngle\":0,\"fTextSize\":0,\"fTextAlign\":0,\"fTextColor\":0,\"fTextFont\":0,\"fX\":0,\"fY\":0,\"fLineColor\":1,\"fLineStyle\":1,\"fLineWidth\":2,\"fLimitFactorSize\":3,\"fOriginSize\":0.04},{\"_typename\":\"TLatex\",\"fUniqueID\":0,\"fBits\":0,\"fName\":\"\",\"fTitle\":\"Mean  =  808.8\",\"fTextAngle\":0,\"fTextSize\":0,\"fTextAlign\":0,\"fTextColor\":0,\"fTextFont\":0,\"fX\":0,\"fY\":0,\"fLineColor\":1,\"fLineStyle\":1,\"fLineWidth\":2,\"fLimitFactorSize\":3,\"fOriginSize\":0.04},{\"_typename\":\"TLatex\",\"fUniqueID\":0,\"fBits\":0,\"fName\":\"\",\"fTitle\":\"Std Dev   =   1065\",\"fTextAngle\":0,\"fTextSize\":0,\"fTextAlign\":0,\"fTextColor\":0,\"fTextFont\":0,\"fX\":0,\"fY\":0,\"fLineColor\":1,\"fLineStyle\":1,\"fLineWidth\":2,\"fLimitFactorSize\":3,\"fOriginSize\":0.04}],\"opt\":[\"\",\"\",\"\",\"\"]},\"fOptFit\":0,\"fOptStat\":1111,\"fFitFormat\":\"5.4g\",\"fStatFormat\":\"6.4g\",\"fParent\":{\"$ref\":3}}],\"opt\":[\"brNDC\"]},\"fBufferSize\":0,\"fBuffer\":[],\"fBinStatErrOpt\":0,\"fStatOverflows\":2,\"fArray\":[0,0,0,0,0,0,0,0,0,0,0,0,0,0,0,0,0,0,0,0,0,2232,3258,3971,4567,4708,4793,4854,5142,5847,7020,9344,13613,19996,28791,39888,50377,60859,68499,73119,74304,73400,70423,66545,60620,56101,50411,45776,40503,36066,32152,28494,25303,21998,19690,17690,15527,13514,11619,10150,9083,8081,6837,5953,5096,4487,3889,3534,3150,2899,2711,2753,2843,2529,2025,1576,1445,1266,1199,1112,1016,944,915,841,772,662,622,592,547,569,551,504,503,480,479,476,526,514,561,554,567,569,684,807,817,765,619,581,497,486,512,494,468,420,457,414,387,441,441,457,534,610,673,818,891,1063,1208,1395,1792,2552,3271,3214,2469,1980,1584,1452,1383,1267,1189,1105,972,909,863,715,655,678,630,588,583,545,487,460,485,463,453,446,431,458,444,442,409,385,371,379,325,333,314,301,308,296,292,300,289,294,327,323,305,295,315,329,339,331,349,373,419,437,390,391,370,345,376,317,304,318,284,321,322,387,371,456,444,521,540,578,524,458,456,423,436,405,353,372,349,293,321,327,298,268,303,295,274,249,261,273,273,250,264,261,310,307,298,319,336,319,330,332,299,345,312,330,368,374,399,364,409,381,392,415,370,427,433,485,481,543,574,624,741,912,1113,1353,1412,1633,1822,2215,2558,2952,3578,4148,4565,4764,4885,4677,4365,4025,3425,2977,2484,2112,1668,1439,1187,990,861,756,686,628,530,502,427,436,414,435,373,365,384,325,374,362,352,360,356,358,373,373,402,431,493,488,505,483,447,433,477,470,483,402,397,354,330,351,302,292,235,255,230,233,217,220,196,198,180,172,166,173,192,155,208,175,157,182,199,216,180,192,192,212,210,218,216,220,171,227,211,196,216,207,213,161,170,184,171,176,146,143,162,125,146,131,126,123,94,132,105,118,91,111,106,109,118,105,105,113,96,100,106,84,97,92,103,102,115,117,117,115,120,120,143,151,133,164,180,204,191,207,219,206,190,182,169,151,143,141,154,157,123,129,132,115,145,120,133,122,112,124,125,141,119,115,114,118,121,116,110,106,117,134,130,115,138,143,138,160,165,187,207,236,206,237,233,250,231,231,234,205,208,192,176,146,169,146,155,135,152,130,155,166,114,143,150,131,143,129,161,138,137,142,155,158,156,173,155,165,144,169,142,161,182,149,172,163,151,135,123,145,109,94,105,115,104,107,84,85,108,88,86,89,98,76,90,96,107,81,72,108,101,96,124,100,90,96,116,110,117,126,129,141,120,127,125,127,134,131,142,148,165,165,177,167,184,156,152,172,130,144,140,141,158,163,160,174,167,218,235,261,282,372,426,468,579,649,701,698,693,605,608,512,443,379,343,283,260,237,190,150,127,119,101,92,81,86,86,82,71,72,61,81,86,94,98,108,81,93,94,98,87,98,86,90,83,77,76,93,60,84,64,69,65,70,68,66,92,74,80,90,80,71,79,87,73,89,58,78,87,67,61,58,42,39,45,34,42,34,37,29,23,26,27,23,33,36,20,32,27,29,28,34,31,25,29,36,40,42,35,40,22,29,22,32,25,25,19,18,14,26,26,31,28,23,14,20,22,24,29,27,24,24,18,23,27,31,21,43,33,24,19,19,10,17,13,18,14,9,24,15,15,12,5,11,17,12,11,11,16,7,15,9,12,8,9,9,10,5,11,9,15,7,6,7,9,5,10,6,8,5,7,12,9,2,4,9,6,3,6,2,3,5,9,3,7,9,5,7,4,5,6,7,8,7,7,5,3,8,7,7,12,12,10,10,8,6,5,6,7,2,10,4,6,4,2,9,4,7,8,5,4,4,1,7,10,3,5,3,6,3,7,6,8,6,7,4,4,8,2,4,6,11,5,7,3,3,4,5,5,4,6,6,10,7,8,12,12,8,8,7,1,10,9,7,10,10,14,15,9,14,8,6,8,3,8,12,9,8,15,7,12,13,10,10,11,9,11,10,16,15,11,9,13,9,11,17,16,24,18,21,13,28,15,19,29,21,17,19,16,23,24,36,31,21,33,30,28,31,35,45,33,40,48,36,35,49,35,43,32,38,40,51,40,50,33,49,52,56,51,42,61,30,56,50,55,46,50,60,44,41,43,44,56,39,40,47,33,36,41,50,37,52,38,29,42,32,34,39,35,30,22,33,22,32,23,18,28,23,21,18,26,19,14,23,29,25,21,13,11,15,17,5,9,12,8,11,8,6,12,5,8,4,6,5,5,2,4,2,6,3,4,2,3,7,3,3,1,1,3,3,2,5,1,2,3,4,3,2,3,1,0,0,0,1,2,3,0,2,4,0,2,0,2,0,0,0,2,286]},{\"_typename\":\"TPaveText\",\"fUniqueID\":0,\"fBits\":9,\"fLineColor\":1,\"fLineStyle\":1,\"fLineWidth\":1,\"fFillColor\":0,\"fFillStyle\":0,\"fX1\":4506.82470529479,\"fY1\":81920.1610245207,\"fX2\":5493.17529470521,\"fY2\":87283.981184375,\"fX1NDC\":0.460545977011494,\"fY1NDC\":0.940000003948808,\"fX2NDC\":0.539454022988506,\"fY2NDC\":0.995000004768372,\"fBorderSize\":0,\"fInit\":1,\"fShadowColor\":1,\"fCornerRadius\":0,\"fOption\":\"blNDC\",\"fName\":\"title\",\"fTextAngle\":0,\"fTextSize\":0,\"fTextAlign\":22,\"fTextColor\":1,\"fTextFont\":42,\"fLabel\":\"\",\"fLongest\":3,\"fMargin\":0.05,\"fLines\":{\"_typename\":\"TList\",\"name\":\"TList\",\"arr\":[{\"_typename\":\"TLatex\",\"fUniqueID\":0,\"fBits\":0,\"fName\":\"\",\"fTitle\":\"bea\",\"fTextAngle\":0,\"fTextSize\":0,\"fTextAlign\":0,\"fTextColor\":0,\"fTextFont\":0,\"fX\":0,\"fY\":0,\"fLineColor\":1,\"fLineStyle\":1,\"fLineWidth\":2,\"fLimitFactorSize\":3,\"fOriginSize\":0.0467500016093254}],\"opt\":[\"\"]}}],\"opt\":[\"\",\"\",\"blNDC\"]},\"fExecs\":null,\"fName\":\"c1\",\"fTitle\":\"c1\",\"fNumPaletteColor\":0,\"fNextPaletteColor\":0,\"fDISPLAY\":\"$DISPLAY\",\"fDoubleBuffer\":0,\"fRetained\":true,\"fXsizeUser\":0,\"fYsizeUser\":0,\"fXsizeReal\":20,\"fYsizeReal\":14.28571,\"fWindowTopX\":0,\"fWindowTopY\":0,\"fWindowWidth\":0,\"fWindowHeight\":0,\"fCw\":696,\"fCh\":472,\"fCatt\":{\"_typename\":\"TAttCanvas\",\"fXBetween\":2,\"fYBetween\":2,\"fTitleFromTop\":1.2,\"fXdate\":0.2,\"fYdate\":0.3,\"fAdate\":1},\"kMoveOpaque\":true,\"kResizeOpaque\":true,\"fHighLightColor\":2,\"fBatch\":true,\"kShowEventStatus\":false,\"kAutoExec\":true,\"kMenuBar\":true});\n",
       "            Core.draw(\"root_plot_1586346892952\", obj, \"\");\n",
       "        }\n",
       "    );\n",
       "}\n",
       "</script>\n"
      ],
      "text/plain": [
       "<IPython.core.display.HTML object>"
      ]
     },
     "metadata": {},
     "output_type": "display_data"
    }
   ],
   "source": [
    "TFile f(\"corral.root\");\n",
    "tree->Draw(\"bea>>(1000,0,10000)\");\n",
    "c1.Draw();"
   ]
  },
  {
   "cell_type": "code",
   "execution_count": null,
   "metadata": {},
   "outputs": [],
   "source": []
  },
  {
   "cell_type": "code",
   "execution_count": null,
   "metadata": {},
   "outputs": [],
   "source": []
  }
 ],
 "metadata": {
  "hide_input": false,
  "kernelspec": {
   "display_name": "ROOT C++",
   "language": "c++",
   "name": "root"
  },
  "language_info": {
   "codemirror_mode": "text/x-c++src",
   "file_extension": ".C",
   "mimetype": " text/x-c++src",
   "name": "c++"
  },
  "toc": {
   "base_numbering": 1,
   "nav_menu": {},
   "number_sections": true,
   "sideBar": true,
   "skip_h1_title": false,
   "title_cell": "Table of Contents",
   "title_sidebar": "Contents",
   "toc_cell": true,
   "toc_position": {},
   "toc_section_display": true,
   "toc_window_display": false
  }
 },
 "nbformat": 4,
 "nbformat_minor": 2
}
